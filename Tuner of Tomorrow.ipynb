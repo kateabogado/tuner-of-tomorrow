{
 "cells": [
  {
   "cell_type": "code",
   "execution_count": null,
   "metadata": {},
   "outputs": [],
   "source": [
    "\"\"\"\n",
    "\n",
    "to install sounddevice:\n",
    "pip install sounddevice --user\n",
    "\n",
    "requires numpy and scipy\n",
    "\n",
    "tuner is from github user - michniewicz\n",
    "\n",
    "\"\"\""
   ]
  },
  {
   "cell_type": "code",
   "execution_count": 9,
   "metadata": {},
   "outputs": [
    {
     "name": "stdout",
     "output_type": "stream",
     "text": [
      "How many seconds would you like to record?: 5\n",
      "Recording now! Play your note.\n",
      "Recording complete, playing audio...\n"
     ]
    },
    {
     "ename": "TypeError",
     "evalue": "must be str, not int",
     "output_type": "error",
     "traceback": [
      "\u001b[0;31m---------------------------------------------------------------------------\u001b[0m",
      "\u001b[0;31mTypeError\u001b[0m                                 Traceback (most recent call last)",
      "\u001b[0;32m<ipython-input-9-7ad24c1940e9>\u001b[0m in \u001b[0;36m<module>\u001b[0;34m()\u001b[0m\n\u001b[1;32m     54\u001b[0m \u001b[0;34m\u001b[0m\u001b[0m\n\u001b[1;32m     55\u001b[0m     \u001b[0;31m# This prints the initial text\u001b[0m\u001b[0;34m\u001b[0m\u001b[0;34m\u001b[0m\u001b[0m\n\u001b[0;32m---> 56\u001b[0;31m     \u001b[0mprint\u001b[0m\u001b[0;34m(\u001b[0m\u001b[0;34m\"Sampling at\"\u001b[0m \u001b[0;34m+\u001b[0m \u001b[0mfsamp\u001b[0m\u001b[0;34m,\u001b[0m \u001b[0;34m\"Hz with max resolution of\"\u001b[0m\u001b[0;34m,\u001b[0m \u001b[0mfreq_step\u001b[0m\u001b[0;34m,\u001b[0m \u001b[0;34m\"Hz\"\u001b[0m\u001b[0;34m)\u001b[0m\u001b[0;34m\u001b[0m\u001b[0m\n\u001b[0m\u001b[1;32m     57\u001b[0m     \u001b[0mprint\u001b[0m\u001b[0;34m(\u001b[0m\u001b[0;34m)\u001b[0m\u001b[0;34m\u001b[0m\u001b[0m\n\u001b[1;32m     58\u001b[0m \u001b[0;34m\u001b[0m\u001b[0m\n",
      "\u001b[0;31mTypeError\u001b[0m: must be str, not int"
     ]
    }
   ],
   "source": [
    "import sounddevice as sd\n",
    "import numpy as np\n",
    "import scipy.io.wavfile as wav\n",
    "\n",
    "#records the audio of the string plucked and plays it back\n",
    "def record_and_play_audio():\n",
    "    duration = int(input(\"How many seconds would you like to record?: \")) \n",
    "    myrecording = sd.rec(duration * fs, samplerate=fs, channels=2, dtype='float64')\n",
    "    print(\"Recording now! Play your note once.\")\n",
    "    sd.wait()\n",
    "    print(\"Recording complete, playing audio...\")\n",
    "    sd.play(myrecording, fs)\n",
    "\n",
    "\n",
    "fs=44100\n",
    "try: \n",
    "    record_and_play_audio()\n",
    "\n",
    "    note_min = 40\n",
    "    note_max = 64\n",
    "    fsamp = 22050\n",
    "    frame_size = 2048\n",
    "    frame_size2 = bytes\n",
    "    #fft stands for \"fast fourier transform\", which is a measurement of audio and acoustics\n",
    "    frames_per_fft = 16\n",
    "\n",
    "    samples_per_fft = frame_size * frames_per_fft\n",
    "    freq_step = float(fsamp) / samples_per_fft\n",
    "\n",
    "    note_names = 'E F F# G G# A A# B C C# D D#'.split()\n",
    "\n",
    "    def freq_to_number(f): \n",
    "        frequency_to_number = (64 + 12 * np.log2(f / 329.63))\n",
    "        return frequency_to_number\n",
    "    def number_to_freq(n): \n",
    "        number_to_frequency = (329.63 * 2.0**((n - 64) / 12.0))\n",
    "        return number_to_frequency\n",
    "    def note_name(n): \n",
    "        note_name = (note_names[n % note_min % len(note_names)] + str(int(n / 12 - 1)))\n",
    "        return note_name\n",
    "\n",
    "    def note_to_fftbin(n): \n",
    "        return number_to_freq(n) / freq_step\n",
    "\n",
    "    imin = max(0, int(np.floor(note_to_fftbin(note_min - 1))))\n",
    "    imax = min(samples_per_fft, int(np.ceil(note_to_fftbin(note_max + 1))))\n",
    "\n",
    "    buffer = np.zeros(samples_per_fft, dtype=np.float32)\n",
    "    num_frames = 0\n",
    "\n",
    "\n",
    "    stream = sd.RawInputStream()\n",
    "    stream.start()\n",
    "\n",
    "    window = 0.5 * (1 - np.cos(np.linspace(0, 2 * np.pi, samples_per_fft, False)))\n",
    "\n",
    "    # This prints the initial text\n",
    "    print(\"Sampling at\", fsamp, \"Hz with maximum resolution of\", freq_step, \"Hz\")\n",
    "    print()\n",
    "\n",
    "\n",
    "    # As long as we are getting data:\n",
    "    #if stream.active():\n",
    "\n",
    "    # Shift the buffer down and new data in\n",
    "    buffer[:-frame_size] = buffer[frame_size:]\n",
    "    buffer[-frame_size:] = np.fromstring(stream.read(frame_size2), np.int16)\n",
    "\n",
    "    # Run the FFT on the windowed buffer\n",
    "    fft = np.fft.rfft(buffer * window)\n",
    "\n",
    "    # Get frequency of maximum response in range\n",
    "    freq = (np.abs(fft[imin:imax]).argmax() + imin) * freq_step\n",
    "\n",
    "    # Get note number and nearest note\n",
    "    n = freq_to_number(freq)\n",
    "    n0 = int(round(n))\n",
    "\n",
    "    # Console output once we have a full buffer\n",
    "    num_frames += 1\n",
    "\n",
    "    if num_frames >= frames_per_fft:\n",
    "        print('number {:7.2f} freq: {:7.2f} Hz note: {:>3s} {:+.2f}'.format(n, freq, note_name(n0), n - n0))\n",
    "\n",
    "except ValueError:\n",
    "    print(\"Please enter an integer for number of seconds!\")"
   ]
  },
  {
   "cell_type": "code",
   "execution_count": null,
   "metadata": {},
   "outputs": [],
   "source": []
  }
 ],
 "metadata": {
  "kernelspec": {
   "display_name": "Python 3",
   "language": "python",
   "name": "python3"
  },
  "language_info": {
   "codemirror_mode": {
    "name": "ipython",
    "version": 3
   },
   "file_extension": ".py",
   "mimetype": "text/x-python",
   "name": "python",
   "nbconvert_exporter": "python",
   "pygments_lexer": "ipython3",
   "version": "3.6.6"
  }
 },
 "nbformat": 4,
 "nbformat_minor": 2
}
