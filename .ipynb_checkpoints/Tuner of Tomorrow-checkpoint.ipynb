{
 "cells": [
  {
   "cell_type": "code",
   "execution_count": null,
   "metadata": {},
   "outputs": [],
   "source": [
    "\"\"\"\n",
    "This program requires the module sounddevice.\n",
    "\n",
    "To install sounddevice, type in your command line:\n",
    "pip3 install sounddevice --user\n",
    "\n",
    "\n",
    "The base code for the tuner is from the Github user - michniewicz\n",
    "\n",
    "\"\"\""
   ]
  },
  {
   "cell_type": "code",
   "execution_count": 4,
   "metadata": {},
   "outputs": [],
   "source": [
    "import sounddevice as sd\n",
    "import numpy as np\n",
    "import scipy.io.wavfile as wav\n",
    "\n",
    "# This records the audio of the string plucked and plays it back\n",
    "def record_and_play_audio():\n",
    "    duration = int(input(\"How many seconds would you like to record?: \")) \n",
    "    my_recording = sd.rec(duration * fs, samplerate=fs, channels=2, dtype='float64')\n",
    "    print(\"Recording now! Play your note once.\")\n",
    "    sd.wait()\n",
    "    print(\"Recording complete, playing audio...\")\n",
    "    sd.play(my_recording, fs)\n",
    "\n",
    "#This function evaluates the audio played\n",
    "def sampling_audio():\n",
    "    # This determines the frequency\n",
    "    def freq_to_number(f): \n",
    "        frequency_to_number = (64 + 12 * np.log2(f / 329.63))\n",
    "        return frequency_to_number\n",
    "    \n",
    "    # This determines the number of semitones\n",
    "    def number_to_freq(n): \n",
    "        number_to_frequency = (329.63 * 2.0**((n - 64) / 12.0))\n",
    "        return number_to_frequency\n",
    "\n",
    "    # This assigns the name of the note\n",
    "    def note_name(n): \n",
    "        note_name = (note_names[n % note_min % len(note_names)] + str(int(n / 12 - 1)))\n",
    "        return note_name\n",
    "    \n",
    "    # This converts the note to FFT\n",
    "    def note_to_fftbin(n): \n",
    "        note_to_fft = (number_to_freq(n) / freq_step)\n",
    "        return note_to_fft\n",
    "\n",
    "    imin = max(0, int(np.floor(note_to_fftbin(note_min - 1))))\n",
    "    imax = min(samples_per_fft, int(np.ceil(note_to_fftbin(note_max + 1))))\n",
    "\n",
    "    buffer = np.zeros(samples_per_fft, dtype=np.float32)\n",
    "    num_frames = 0\n",
    "\n",
    "\n",
    "    stream = sd.RawInputStream()\n",
    "    stream.start()\n",
    "\n",
    "    window = 0.5 * (1 - np.cos(np.linspace(0, 2 * np.pi, samples_per_fft, False)))\n",
    "\n",
    "    # This prints the sampled audio and the frequency in Hz\n",
    "    return(\"Sampling at\", fsamp, \"Hz with maximum resolution of\", freq_step, \"Hz\")\n",
    "\n",
    "#This function determines the \n",
    "def determining_the_note():\n",
    "    # Shift the buffer down and new data in\n",
    "    buffer[:-frame_size] = buffer[frame_size:]\n",
    "    buffer[-frame_size:] = np.fromstring(stream.read(frame_size2), np.int16)\n",
    "\n",
    "    # Run the FFT on the windowed buffer\n",
    "    fft = np.fft.rfft(buffer * window)\n",
    "\n",
    "    # Get frequency of maximum response in range\n",
    "    freq = (np.abs(fft[imin:imax]).argmax() + imin) * freq_step\n",
    "\n",
    "    # Get note number and nearest note\n",
    "    n = freq_to_number(freq)\n",
    "    n0 = int(round(n))\n",
    "\n",
    "    # Console output once we have a full buffer\n",
    "    num_frames += 1\n",
    "\n",
    "    if num_frames >= frames_per_fft:\n",
    "        print('number {:7.2f} freq: {:7.2f} Hz note: {:>3s} {:+.2f}'.format(n, freq, note_name(n0), n - n0))"
   ]
  },
  {
   "cell_type": "code",
   "execution_count": 5,
   "metadata": {},
   "outputs": [
    {
     "name": "stdout",
     "output_type": "stream",
     "text": [
      "How many seconds would you like to record?: 4\n",
      "Recording now! Play your note once.\n",
      "Recording complete, playing audio...\n"
     ]
    },
    {
     "ename": "TypeError",
     "evalue": "unsupported operand type(s) for *: 'int' and 'type'",
     "output_type": "error",
     "traceback": [
      "\u001b[0;31m---------------------------------------------------------------------------\u001b[0m",
      "\u001b[0;31mTypeError\u001b[0m                                 Traceback (most recent call last)",
      "\u001b[0;32m<ipython-input-5-4b48dc05fa1b>\u001b[0m in \u001b[0;36m<module>\u001b[0;34m()\u001b[0m\n\u001b[1;32m     24\u001b[0m     \u001b[0;31m# Shift the buffer down and new data in\u001b[0m\u001b[0;34m\u001b[0m\u001b[0;34m\u001b[0m\u001b[0m\n\u001b[1;32m     25\u001b[0m     \u001b[0mbuffer\u001b[0m\u001b[0;34m[\u001b[0m\u001b[0;34m:\u001b[0m\u001b[0;34m-\u001b[0m\u001b[0mframe_size\u001b[0m\u001b[0;34m]\u001b[0m \u001b[0;34m=\u001b[0m \u001b[0mbuffer\u001b[0m\u001b[0;34m[\u001b[0m\u001b[0mframe_size\u001b[0m\u001b[0;34m:\u001b[0m\u001b[0;34m]\u001b[0m\u001b[0;34m\u001b[0m\u001b[0m\n\u001b[0;32m---> 26\u001b[0;31m     \u001b[0mbuffer\u001b[0m\u001b[0;34m[\u001b[0m\u001b[0;34m-\u001b[0m\u001b[0mframe_size\u001b[0m\u001b[0;34m:\u001b[0m\u001b[0;34m]\u001b[0m \u001b[0;34m=\u001b[0m \u001b[0mnp\u001b[0m\u001b[0;34m.\u001b[0m\u001b[0mfromstring\u001b[0m\u001b[0;34m(\u001b[0m\u001b[0mstream\u001b[0m\u001b[0;34m.\u001b[0m\u001b[0mread\u001b[0m\u001b[0;34m(\u001b[0m\u001b[0mframe_size2\u001b[0m\u001b[0;34m)\u001b[0m\u001b[0;34m,\u001b[0m \u001b[0mnp\u001b[0m\u001b[0;34m.\u001b[0m\u001b[0mint16\u001b[0m\u001b[0;34m)\u001b[0m\u001b[0;34m\u001b[0m\u001b[0m\n\u001b[0m\u001b[1;32m     27\u001b[0m \u001b[0;34m\u001b[0m\u001b[0m\n\u001b[1;32m     28\u001b[0m     \u001b[0;31m# Run the FFT on the windowed buffer\u001b[0m\u001b[0;34m\u001b[0m\u001b[0;34m\u001b[0m\u001b[0m\n",
      "\u001b[0;32m~/Library/Python/3.6/lib/python/site-packages/sounddevice.py\u001b[0m in \u001b[0;36mread\u001b[0;34m(self, frames)\u001b[0m\n\u001b[1;32m   1108\u001b[0m         \u001b[0mchannels\u001b[0m\u001b[0;34m,\u001b[0m \u001b[0m_\u001b[0m \u001b[0;34m=\u001b[0m \u001b[0m_split\u001b[0m\u001b[0;34m(\u001b[0m\u001b[0mself\u001b[0m\u001b[0;34m.\u001b[0m\u001b[0m_channels\u001b[0m\u001b[0;34m)\u001b[0m\u001b[0;34m\u001b[0m\u001b[0m\n\u001b[1;32m   1109\u001b[0m         \u001b[0msamplesize\u001b[0m\u001b[0;34m,\u001b[0m \u001b[0m_\u001b[0m \u001b[0;34m=\u001b[0m \u001b[0m_split\u001b[0m\u001b[0;34m(\u001b[0m\u001b[0mself\u001b[0m\u001b[0;34m.\u001b[0m\u001b[0m_samplesize\u001b[0m\u001b[0;34m)\u001b[0m\u001b[0;34m\u001b[0m\u001b[0m\n\u001b[0;32m-> 1110\u001b[0;31m         \u001b[0mdata\u001b[0m \u001b[0;34m=\u001b[0m \u001b[0m_ffi\u001b[0m\u001b[0;34m.\u001b[0m\u001b[0mnew\u001b[0m\u001b[0;34m(\u001b[0m\u001b[0;34m'signed char[]'\u001b[0m\u001b[0;34m,\u001b[0m \u001b[0mchannels\u001b[0m \u001b[0;34m*\u001b[0m \u001b[0msamplesize\u001b[0m \u001b[0;34m*\u001b[0m \u001b[0mframes\u001b[0m\u001b[0;34m)\u001b[0m\u001b[0;34m\u001b[0m\u001b[0m\n\u001b[0m\u001b[1;32m   1111\u001b[0m         \u001b[0merr\u001b[0m \u001b[0;34m=\u001b[0m \u001b[0m_lib\u001b[0m\u001b[0;34m.\u001b[0m\u001b[0mPa_ReadStream\u001b[0m\u001b[0;34m(\u001b[0m\u001b[0mself\u001b[0m\u001b[0;34m.\u001b[0m\u001b[0m_ptr\u001b[0m\u001b[0;34m,\u001b[0m \u001b[0mdata\u001b[0m\u001b[0;34m,\u001b[0m \u001b[0mframes\u001b[0m\u001b[0;34m)\u001b[0m\u001b[0;34m\u001b[0m\u001b[0m\n\u001b[1;32m   1112\u001b[0m         \u001b[0;32mif\u001b[0m \u001b[0merr\u001b[0m \u001b[0;34m==\u001b[0m \u001b[0m_lib\u001b[0m\u001b[0;34m.\u001b[0m\u001b[0mpaInputOverflowed\u001b[0m\u001b[0;34m:\u001b[0m\u001b[0;34m\u001b[0m\u001b[0m\n",
      "\u001b[0;31mTypeError\u001b[0m: unsupported operand type(s) for *: 'int' and 'type'"
     ]
    }
   ],
   "source": [
    "fs = 44100\n",
    "note_min = 40\n",
    "note_max = 64\n",
    "fsamp = 22050\n",
    "frame_size = 2048\n",
    "frame_size2 = bytes\n",
    "#fft stands for \"fast fourier transform\", which is a measurement of audio and acoustics\n",
    "frames_per_fft = 16\n",
    "\n",
    "samples_per_fft = frame_size * frames_per_fft\n",
    "freq_step = float(fsamp) / samples_per_fft\n",
    "\n",
    "note_names = 'E F F# G G# A A# B C C# D D#'.split()\n",
    "\n",
    "try: \n",
    "    record_and_play_audio()\n",
    "    sampling_audio()\n",
    "    determining_the_note()\n",
    "    \n",
    "except ValueError:\n",
    "    print(\"Please enter an integer for number of seconds!\")"
   ]
  },
  {
   "cell_type": "code",
   "execution_count": null,
   "metadata": {},
   "outputs": [],
   "source": []
  }
 ],
 "metadata": {
  "kernelspec": {
   "display_name": "Python 3",
   "language": "python",
   "name": "python3"
  },
  "language_info": {
   "codemirror_mode": {
    "name": "ipython",
    "version": 3
   },
   "file_extension": ".py",
   "mimetype": "text/x-python",
   "name": "python",
   "nbconvert_exporter": "python",
   "pygments_lexer": "ipython3",
   "version": "3.6.6"
  }
 },
 "nbformat": 4,
 "nbformat_minor": 2
}
